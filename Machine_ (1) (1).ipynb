{
 "cells": [
  {
   "cell_type": "markdown",
   "metadata": {
    "id": "yJuRulCuhdo_"
   },
   "source": [
    "# **Ce projet développe un système d'apprentissage automatique visant à prédire la production agricole à partir de données historiques de culture allant de 1983 à 2023. Le système compare différentes approches de régression, y compris un modèle de régression linéaire personnalisé implémenté depuis zéro, afin de prévoir la production agricole totale en utilisant la superficie cultivée comme principale variable d'entrée**"
   ]
  },
  {
   "cell_type": "markdown",
   "metadata": {
    "id": "QrQiNU0sdwzm"
   },
   "source": [
    "# **Exploration du dataset**"
   ]
  },
  {
   "cell_type": "code",
   "execution_count": null,
   "metadata": {
    "colab": {
     "base_uri": "https://localhost:8080/",
     "height": 73
    },
    "id": "Ck_vlT0uTEFi",
    "outputId": "0841e097-a9a2-4970-ec9a-c20e699dceb6"
   },
   "outputs": [],
   "source": [
    "import pandas as pd\n",
    "import numpy as np\n",
    "from io import StringIO\n",
    "\n",
    "\n",
    "from google.colab import files\n",
    "uploaded = files.upload()\n",
    "\n",
    "file_name = list(uploaded.keys())[0]\n",
    "xls = pd.ExcelFile(file_name)\n",
    "\n",
    "df = pd.read_excel(xls, sheet_name='Feuil1', header=None)"
   ]
  },
  {
   "cell_type": "code",
   "execution_count": null,
   "metadata": {
    "id": "h4cFL8CGXzRt"
   },
   "outputs": [],
   "source": [
    "# Find the start and end rows for each table\n",
    "table1_start = df[df[0].str.contains('Tableau 1 : Evolution des superficie cultivée', na=False)].index[0]\n",
    "table2_start = df[df[0].str.contains('Tableau 2 : Evolution de la production brute', na=False)].index[0]\n",
    "table3_start = df[df[0].str.contains('Tableau 3 : Evolution des rendements', na=False)].index[0]\n",
    "end_of_data = df[df[0].str.contains('Source : DPSCSE/MA', na=False)].index[-1]\n",
    "\n",
    "\n",
    "table1 = df.iloc[table1_start+9:table2_start-3].copy()  # Cultivated areas\n",
    "table2 = df.iloc[table2_start+9:table3_start-3].copy()  # Production\n",
    "table3 = df.iloc[table3_start+9:end_of_data].copy()     # Yields\n",
    "\n",
    "\n",
    "columns = [\n",
    "    'Year', 'Sorgho_Dieri', 'Mil_Dieri', 'Mais_Dieri', 'Total_Dieri',\n",
    "    'Sorgho_BasFonds', 'Mais_BasFonds', 'BleOrge_BasFonds', 'Total_BasFonds',\n",
    "    'Sorgho_Walo', 'Mais_Walo', 'Total_Walo',\n",
    "    'Sorgho_Decrue', 'Mais_Decrue', 'Total_Decrue',\n",
    "    'Sorgho_Hivernage', 'Mais_Hivernage', 'Riz_Hivernage', 'Total_Hivernage',\n",
    "    'Riz_CSC', 'Ble_CSF', 'Total_General'\n",
    "]\n",
    "\n",
    "for table in [table1, table2, table3]:\n",
    "    table.columns = columns\n",
    "    table.reset_index(drop=True, inplace=True)"
   ]
  },
  {
   "cell_type": "code",
   "execution_count": null,
   "metadata": {
    "colab": {
     "base_uri": "https://localhost:8080/"
    },
    "id": "kdGKIa_VYBF3",
    "outputId": "facecdfa-b6ab-4d5d-94b5-921c6894628c"
   },
   "outputs": [],
   "source": [
    "def clean_table(table):\n",
    "    table['Year'] = table['Year'].str.replace('-', '/').str.strip()\n",
    "    numeric_cols = table.columns.drop('Year')\n",
    "    for col in numeric_cols:\n",
    "        table[col] = pd.to_numeric(table[col], errors='coerce')\n",
    "\n",
    "\n",
    "    table['Year'].fillna(method='ffill', inplace=True)\n",
    "\n",
    "    return table\n",
    "\n",
    "\n",
    "table1_clean = clean_table(table1)\n",
    "table2_clean = clean_table(table2)\n",
    "table3_clean = clean_table(table3)"
   ]
  },
  {
   "cell_type": "code",
   "execution_count": null,
   "metadata": {
    "id": "xJEj5qOGYEy8"
   },
   "outputs": [],
   "source": [
    "table1_clean = table1_clean.add_suffix('_Area')\n",
    "table2_clean = table2_clean.add_suffix('_Production')\n",
    "table3_clean = table3_clean.add_suffix('_Yield')\n",
    "\n",
    "merged_df = pd.merge(table1_clean, table2_clean,\n",
    "                    left_on='Year_Area', right_on='Year_Production',\n",
    "                    how='outer')\n",
    "merged_df = pd.merge(merged_df, table3_clean,\n",
    "                    left_on='Year_Area', right_on='Year_Yield',\n",
    "                    how='outer')\n",
    "\n",
    "merged_df['Year'] = merged_df['Year_Area']\n",
    "merged_df.drop(['Year_Area', 'Year_Production', 'Year_Yield'], axis=1, inplace=True)\n",
    "merged_df = merged_df[['Year'] + [col for col in merged_df.columns if col != 'Year']]\n",
    "\n",
    "merged_df.dropna(how='all', subset=merged_df.columns.drop('Year'), inplace=True)"
   ]
  },
  {
   "cell_type": "code",
   "execution_count": null,
   "metadata": {
    "colab": {
     "base_uri": "https://localhost:8080/"
    },
    "id": "y5lAjgISYImm",
    "outputId": "718f6e37-1991-430e-d3d5-3a9f1c4638e8"
   },
   "outputs": [],
   "source": [
    "\n",
    "merged_df['Total_Sorgho_Production'] = (\n",
    "    merged_df['Sorgho_Dieri_Production'] +\n",
    "    merged_df['Sorgho_BasFonds_Production'] +\n",
    "    merged_df['Sorgho_Walo_Production'] +\n",
    "    merged_df['Sorgho_Decrue_Production'] +\n",
    "    merged_df['Sorgho_Hivernage_Production']\n",
    ")\n",
    "\n",
    "merged_df['Total_Mais_Production'] = (\n",
    "    merged_df['Mais_Dieri_Production'] +\n",
    "    merged_df['Mais_BasFonds_Production'] +\n",
    "    merged_df['Mais_Walo_Production'] +\n",
    "    merged_df['Mais_Decrue_Production'] +\n",
    "    merged_df['Mais_Hivernage_Production']\n",
    ")\n",
    "\n",
    "merged_df['Total_Riz_Production'] = (\n",
    "    merged_df['Riz_Hivernage_Production'] +\n",
    "    merged_df['Riz_CSC_Production']\n",
    ")\n",
    "\n",
    "\n",
    "merged_df['Year_Numeric'] = merged_df['Year'].str.split('/').str[0].astype(int)\n",
    "\n",
    "merged_df.sort_values('Year_Numeric', inplace=True)\n",
    "merged_df.reset_index(drop=True, inplace=True)\n",
    "\n",
    "\n",
    "print(\"Missing values per column:\")\n",
    "print(merged_df.isnull().sum())\n",
    "\n",
    "\n",
    "merged_df.fillna(method='ffill', inplace=True)\n",
    "merged_df.fillna(method='bfill', inplace=True)"
   ]
  },
  {
   "cell_type": "code",
   "execution_count": null,
   "metadata": {
    "colab": {
     "base_uri": "https://localhost:8080/",
     "height": 290
    },
    "id": "8krjm8ePYNBi",
    "outputId": "a87dfdfb-1714-4f1b-efd6-68d834d57607"
   },
   "outputs": [],
   "source": [
    "\n",
    "merged_df.to_csv('cleaned_agricultural_data.csv', index=False)\n",
    "print(\"\\nCleaned dataset preview:\")\n",
    "display(merged_df.head())"
   ]
  },
  {
   "cell_type": "markdown",
   "metadata": {
    "id": "YA2UoB6Rd52K"
   },
   "source": [
    "# **Data Visualisation**"
   ]
  },
  {
   "cell_type": "code",
   "execution_count": null,
   "metadata": {
    "colab": {
     "base_uri": "https://localhost:8080/",
     "height": 952
    },
    "id": "MX34v7QoYRda",
    "outputId": "23818dbe-e49b-4737-8ee7-0f7d3064985e"
   },
   "outputs": [],
   "source": [
    "\n",
    "print(\"\\nSummary statistics:\")\n",
    "display(merged_df.describe())\n",
    "\n",
    "\n",
    "import matplotlib.pyplot as plt\n",
    "import seaborn as sns\n",
    "\n",
    "plt.figure(figsize=(12, 6))\n",
    "sns.lineplot(data=merged_df, x='Year_Numeric', y='Total_General_Production')\n",
    "plt.title('Total Agricultural Production Over Time')\n",
    "plt.xlabel('Year')\n",
    "plt.ylabel('Total Production (tons)')\n",
    "plt.xticks(rotation=45)\n",
    "plt.show()"
   ]
  },
  {
   "cell_type": "code",
   "execution_count": null,
   "metadata": {
    "colab": {
     "base_uri": "https://localhost:8080/",
     "height": 670
    },
    "id": "6Weq-01sYum7",
    "outputId": "d313ee02-b69c-4be8-ca05-c84ee5112af5"
   },
   "outputs": [],
   "source": [
    "plt.figure(figsize=(14, 8))\n",
    "\n",
    "\n",
    "plt.subplot(2, 2, 1)\n",
    "sns.lineplot(data=merged_df, x='Year_Numeric', y='Total_General_Production', color='darkgreen')\n",
    "plt.title('Total Agricultural Production Over Time')\n",
    "plt.xlabel('Year')\n",
    "plt.ylabel('Production (tons)')\n",
    "\n",
    "\n",
    "plt.subplot(2, 2, 2)\n",
    "sns.lineplot(data=merged_df, x='Year_Numeric', y='Total_Sorgho_Production', label='Sorgho')\n",
    "sns.lineplot(data=merged_df, x='Year_Numeric', y='Total_Mais_Production', label='Mais')\n",
    "sns.lineplot(data=merged_df, x='Year_Numeric', y='Total_Riz_Production', label='Riz')\n",
    "plt.title('Production by Crop Type Over Time')\n",
    "plt.xlabel('Year')\n",
    "plt.ylabel('Production (tons)')\n",
    "plt.legend()\n",
    "\n",
    "\n",
    "plt.subplot(2, 2, 3)\n",
    "sns.lineplot(data=merged_df, x='Year_Numeric', y='Total_Dieri_Area', label='Dieri')\n",
    "sns.lineplot(data=merged_df, x='Year_Numeric', y='Total_BasFonds_Area', label='Bas Fonds')\n",
    "sns.lineplot(data=merged_df, x='Year_Numeric', y='Total_Walo_Area', label='Walo')\n",
    "plt.title('Cultivated Area by Region Over Time')\n",
    "plt.xlabel('Year')\n",
    "plt.ylabel('Area (ha)')\n",
    "plt.legend()\n",
    "\n",
    "plt.subplot(2, 2, 4)\n",
    "sns.lineplot(data=merged_df, x='Year_Numeric', y='Total_Dieri_Yield', label='Dieri')\n",
    "sns.lineplot(data=merged_df, x='Year_Numeric', y='Total_BasFonds_Yield', label='Bas Fonds')\n",
    "sns.lineplot(data=merged_df, x='Year_Numeric', y='Total_Walo_Yield', label='Walo')\n",
    "plt.title('Yield by Region Over Time')\n",
    "plt.xlabel('Year')\n",
    "plt.ylabel('Yield (T/Ha)')\n",
    "plt.legend()\n",
    "\n",
    "plt.tight_layout()\n",
    "plt.show()"
   ]
  },
  {
   "cell_type": "code",
   "execution_count": null,
   "metadata": {
    "colab": {
     "base_uri": "https://localhost:8080/",
     "height": 937
    },
    "id": "AbkEOC8mYlEk",
    "outputId": "b387b14d-5f78-4baa-d918-fe1da2921e26"
   },
   "outputs": [],
   "source": [
    "\n",
    "numeric_cols = merged_df.select_dtypes(include=[np.number]).columns\n",
    "corr_df = merged_df[numeric_cols].corr()\n",
    "\n",
    "plt.figure(figsize=(16, 12))\n",
    "sns.heatmap(corr_df, annot=True, fmt=\".2f\", cmap='coolwarm',\n",
    "            annot_kws={\"size\": 8}, vmin=-1, vmax=1)\n",
    "plt.title('Correlation Matrix of Agricultural Variables')\n",
    "plt.xticks(rotation=45, ha='right')\n",
    "plt.yticks(rotation=0)\n",
    "plt.tight_layout()\n",
    "plt.show()"
   ]
  },
  {
   "cell_type": "code",
   "execution_count": null,
   "metadata": {
    "colab": {
     "base_uri": "https://localhost:8080/",
     "height": 397
    },
    "id": "TfIs7oj6Y03B",
    "outputId": "88160bdb-5f66-41d9-cb25-286e4515756e"
   },
   "outputs": [],
   "source": [
    "\n",
    "recent_year = merged_df['Year_Numeric'].max()\n",
    "recent_data = merged_df[merged_df['Year_Numeric'] == recent_year]\n",
    "\n",
    "plt.figure(figsize=(15, 5))\n",
    "\n",
    "plt.subplot(1, 3, 1)\n",
    "production_cols = ['Total_Sorgho_Production', 'Total_Mais_Production', 'Total_Riz_Production']\n",
    "\n",
    "production_values = recent_data[production_cols].sum().values\n",
    "plt.pie(production_values, labels=['Sorgho', 'Mais', 'Riz'],\n",
    "        autopct='%1.1f%%', colors=['#ff9999','#66b3ff','#99ff99'])\n",
    "plt.title(f'Production Composition ({recent_year})')\n",
    "\n",
    "\n",
    "plt.subplot(1, 3, 2)\n",
    "area_cols = ['Total_Dieri_Area', 'Total_BasFonds_Area', 'Total_Walo_Area']\n",
    "# Calculate the sum of area for each region in the recent year\n",
    "area_values = recent_data[area_cols].sum().values\n",
    "plt.pie(area_values, labels=['Dieri', 'Bas Fonds', 'Walo'],\n",
    "        autopct='%1.1f%%', colors=['#ffcc99','#c2c2f0','#ffb3e6'])\n",
    "plt.title(f'Area Composition by Region ({recent_year})')\n",
    "\n",
    "plt.subplot(1, 3, 3)\n",
    "\n",
    "yield_cols = ['Total_Dieri_Yield', 'Total_BasFonds_Yield', 'Total_Walo_Yield']\n",
    "yield_values = recent_data[yield_cols].mean().values\n",
    "plt.bar(['Dieri', 'Bas Fonds', 'Walo'], yield_values, color=['#8dd3c7','#ffffb3','#bebada'])\n",
    "plt.title(f'Yield by Region ({recent_year})')\n",
    "plt.ylabel('Yield (T/Ha)')\n",
    "\n",
    "plt.tight_layout()\n",
    "plt.show()"
   ]
  },
  {
   "cell_type": "code",
   "execution_count": null,
   "metadata": {
    "colab": {
     "base_uri": "https://localhost:8080/",
     "height": 472
    },
    "id": "lJaLs_LXZEJE",
    "outputId": "196b3ac7-291a-411f-a644-d2fcb826fdbc"
   },
   "outputs": [],
   "source": [
    "plt.figure(figsize=(15, 6))\n",
    "\n",
    "\n",
    "plt.subplot(1, 3, 1)\n",
    "sns.boxplot(data=merged_df[['Total_Sorgho_Production', 'Total_Mais_Production', 'Total_Riz_Production']])\n",
    "plt.title('Production Distribution by Crop')\n",
    "plt.ylabel('Production (tons)')\n",
    "plt.xticks(rotation=45)\n",
    "\n",
    "\n",
    "plt.subplot(1, 3, 2)\n",
    "sns.boxplot(data=merged_df[['Total_Dieri_Area', 'Total_BasFonds_Area', 'Total_Walo_Area']])\n",
    "plt.title('Area Distribution by Region')\n",
    "plt.ylabel('Area (ha)')\n",
    "plt.xticks(rotation=45)\n",
    "\n",
    "\n",
    "plt.subplot(1, 3, 3)\n",
    "sns.boxplot(data=merged_df[['Total_Dieri_Yield', 'Total_BasFonds_Yield', 'Total_Walo_Yield']])\n",
    "plt.title('Yield Distribution by Region')\n",
    "plt.ylabel('Yield (T/Ha)')\n",
    "plt.xticks(rotation=45)\n",
    "\n",
    "plt.tight_layout()\n",
    "plt.show()"
   ]
  },
  {
   "cell_type": "code",
   "execution_count": null,
   "metadata": {
    "colab": {
     "base_uri": "https://localhost:8080/",
     "height": 395
    },
    "id": "Rf6oXWXnZHqI",
    "outputId": "14eb28c1-301d-43fe-f944-ae2cae8784cc"
   },
   "outputs": [],
   "source": [
    "plt.figure(figsize=(15, 5))\n",
    "\n",
    "# Sorgho\n",
    "plt.subplot(1, 3, 1)\n",
    "sns.scatterplot(data=merged_df, x='Total_Dieri_Area', y='Total_Sorgho_Production', hue='Year_Numeric')\n",
    "plt.title('Sorgho: Area vs Production')\n",
    "plt.xlabel('Area (ha)')\n",
    "plt.ylabel('Production (tons)')\n",
    "\n",
    "# Mais\n",
    "plt.subplot(1, 3, 2)\n",
    "sns.scatterplot(data=merged_df, x='Total_BasFonds_Area', y='Total_Mais_Production', hue='Year_Numeric')\n",
    "plt.title('Mais: Area vs Production')\n",
    "plt.xlabel('Area (ha)')\n",
    "plt.ylabel('Production (tons)')\n",
    "\n",
    "# Riz\n",
    "plt.subplot(1, 3, 3)\n",
    "sns.scatterplot(data=merged_df, x='Total_Hivernage_Area', y='Total_Riz_Production', hue='Year_Numeric')\n",
    "plt.title('Riz: Area vs Production')\n",
    "plt.xlabel('Area (ha)')\n",
    "plt.ylabel('Production (tons)')\n",
    "\n",
    "plt.tight_layout()\n",
    "plt.show()"
   ]
  },
  {
   "cell_type": "code",
   "execution_count": null,
   "metadata": {
    "colab": {
     "base_uri": "https://localhost:8080/",
     "height": 670
    },
    "id": "znueuWGBZMdg",
    "outputId": "54059ca5-a595-4288-8f9d-6d16f7ff77ff"
   },
   "outputs": [],
   "source": [
    "plt.figure(figsize=(14, 8))\n",
    "\n",
    "\n",
    "numeric_merged_df = merged_df.select_dtypes(include=[np.number])\n",
    "\n",
    "\n",
    "rolling_df = numeric_merged_df.groupby(merged_df['Year_Numeric']).mean().rolling(3).mean()\n",
    "\n",
    "\n",
    "\n",
    "plt.subplot(2, 1, 1)\n",
    "sns.lineplot(data=rolling_df, x=rolling_df.index, y='Total_General_Production', label='3-year avg')\n",
    "sns.lineplot(data=merged_df, x='Year_Numeric', y='Total_General_Production',\n",
    "             label='Annual', alpha=0.3)\n",
    "plt.title('Total Production with 3-year Rolling Average')\n",
    "plt.xlabel('Year')\n",
    "plt.ylabel('Production (tons)')\n",
    "plt.legend()\n",
    "\n",
    "# Yield trends\n",
    "plt.subplot(2, 1, 2)\n",
    "if 'Total_Dieri_Yield' in rolling_df.columns:\n",
    "    sns.lineplot(data=rolling_df, x=rolling_df.index, y='Total_Dieri_Yield', label='Dieri')\n",
    "if 'Total_BasFonds_Yield' in rolling_df.columns:\n",
    "    sns.lineplot(data=rolling_df, x=rolling_df.index, y='Total_BasFonds_Yield', label='Bas Fonds')\n",
    "if 'Total_Walo_Yield' in rolling_df.columns:\n",
    "     sns.lineplot(data=rolling_df, x=rolling_df.index, y='Total_Walo_Yield', label='Walo')\n",
    "\n",
    "\n",
    "plt.title('3-year Rolling Average Yields by Region')\n",
    "plt.xlabel('Year')\n",
    "plt.ylabel('Yield (T/Ha)')\n",
    "plt.legend()\n",
    "\n",
    "plt.tight_layout()\n",
    "plt.show()"
   ]
  },
  {
   "cell_type": "markdown",
   "metadata": {
    "id": "LywvT5WPawjY"
   },
   "source": [
    "#  comparing which Model is the best and then we built it from scratch"
   ]
  },
  {
   "cell_type": "code",
   "execution_count": null,
   "metadata": {
    "id": "I_yxnjQYar9-"
   },
   "outputs": [],
   "source": [
    "from sklearn.model_selection import train_test_split\n",
    "from sklearn.preprocessing import StandardScaler\n",
    "from sklearn.metrics import mean_squared_error, r2_score\n",
    "import numpy as np\n",
    "\n",
    "\n",
    "X = merged_df[[\n",
    "    'Total_Dieri_Area', 'Total_BasFonds_Area', 'Total_Walo_Area',\n",
    "    'Total_Decrue_Area', 'Total_Hivernage_Area'\n",
    "]]\n",
    "\n",
    "# Target: Total agricultural production\n",
    "y = merged_df['Total_General_Production']\n",
    "\n",
    "# Split data\n",
    "X_train, X_test, y_train, y_test = train_test_split(\n",
    "    X, y, test_size=0.2, random_state=42)\n",
    "\n",
    "# Scale features\n",
    "scaler = StandardScaler()\n",
    "X_train_scaled = scaler.fit_transform(X_train)\n",
    "X_test_scaled = scaler.transform(X_test)"
   ]
  },
  {
   "cell_type": "code",
   "execution_count": null,
   "metadata": {
    "id": "hfdC3Mu4a7mr"
   },
   "outputs": [],
   "source": [
    "from sklearn.linear_model import LinearRegression, Ridge, Lasso\n",
    "from sklearn.ensemble import RandomForestRegressor, GradientBoostingRegressor\n",
    "from sklearn.svm import SVR\n",
    "from sklearn.neighbors import KNeighborsRegressor\n",
    "from xgboost import XGBRegressor\n",
    "\n",
    "\n",
    "models = {\n",
    "    'Linear Regression': LinearRegression(),\n",
    "    'Ridge Regression': Ridge(alpha=1.0),\n",
    "    'Lasso Regression': Lasso(alpha=0.1),\n",
    "    'Random Forest': RandomForestRegressor(n_estimators=100, random_state=42),\n",
    "    'Gradient Boosting': GradientBoostingRegressor(n_estimators=100, random_state=42),\n",
    "    'Support Vector': SVR(kernel='rbf', C=100, gamma=0.1, epsilon=0.1),\n",
    "    'K-Neighbors': KNeighborsRegressor(n_neighbors=5),\n",
    "    'XGBoost': XGBRegressor(n_estimators=100, random_state=42)\n",
    "}\n",
    "\n",
    "# Train and evaluate models\n",
    "results = {}\n",
    "for name, model in models.items():\n",
    "    model.fit(X_train_scaled, y_train)\n",
    "    y_pred = model.predict(X_test_scaled)\n",
    "\n",
    "    mse = mean_squared_error(y_test, y_pred)\n",
    "    rmse = np.sqrt(mse)\n",
    "    r2 = r2_score(y_test, y_pred)\n",
    "\n",
    "    results[name] = {\n",
    "        'RMSE': rmse,\n",
    "        'R2': r2,\n",
    "        'Model': model\n",
    "    }"
   ]
  },
  {
   "cell_type": "code",
   "execution_count": null,
   "metadata": {
    "colab": {
     "base_uri": "https://localhost:8080/",
     "height": 780
    },
    "id": "Zdc4hQ0SbIoA",
    "outputId": "60c29f32-2032-4dba-c999-045b8d70532c"
   },
   "outputs": [],
   "source": [
    "# Create comparison dataframe\n",
    "comparison_df = pd.DataFrame.from_dict(results, orient='index')\n",
    "comparison_df.sort_values('RMSE', inplace=True)\n",
    "\n",
    "# Plot model performance\n",
    "plt.figure(figsize=(12, 6))\n",
    "\n",
    "# RMSE comparison\n",
    "plt.subplot(1, 2, 1)\n",
    "sns.barplot(x=comparison_df.index, y=comparison_df['RMSE'], palette='viridis')\n",
    "plt.title('Model Comparison by RMSE (Lower is Better)')\n",
    "plt.ylabel('Root Mean Squared Error')\n",
    "plt.xticks(rotation=45, ha='right')\n",
    "\n",
    "# R2 comparison\n",
    "plt.subplot(1, 2, 2)\n",
    "sns.barplot(x=comparison_df.index, y=comparison_df['R2'], palette='viridis')\n",
    "plt.title('Model Comparison by R2 Score (Higher is Better)')\n",
    "plt.ylabel('R2 Score')\n",
    "plt.xticks(rotation=45, ha='right')\n",
    "\n",
    "plt.tight_layout()\n",
    "plt.show()"
   ]
  },
  {
   "cell_type": "code",
   "execution_count": null,
   "metadata": {
    "colab": {
     "base_uri": "https://localhost:8080/",
     "height": 679
    },
    "id": "0F6KoHGLbW7J",
    "outputId": "2ee350ca-5abd-4707-c226-23afc42df901"
   },
   "outputs": [],
   "source": [
    "# Get best model based on RMSE\n",
    "best_model_name = comparison_df.index[0]\n",
    "best_model = comparison_df.loc[best_model_name, 'Model']\n",
    "\n",
    "# Make predictions\n",
    "y_pred = best_model.predict(X_test_scaled)\n",
    "\n",
    "# Create prediction dataframe\n",
    "pred_df = pd.DataFrame({\n",
    "    'Year': merged_df.loc[X_test.index, 'Year'],\n",
    "    'Actual': y_test,\n",
    "    'Predicted': y_pred\n",
    "}).sort_values('Year')\n",
    "\n",
    "# Plot actual vs predicted\n",
    "plt.figure(figsize=(14, 6))\n",
    "\n",
    "\n",
    "plt.subplot(1, 2, 1)\n",
    "plt.plot(pred_df['Year'], pred_df['Actual'], label='Actual', marker='o')\n",
    "plt.plot(pred_df['Year'], pred_df['Predicted'], label='Predicted', marker='x')\n",
    "plt.title(f'Actual vs Predicted Production\\n({best_model_name})')\n",
    "plt.xlabel('Year')\n",
    "plt.ylabel('Production (tons)')\n",
    "plt.legend()\n",
    "plt.xticks(rotation=45)\n",
    "\n",
    "# Scatter plot\n",
    "plt.subplot(1, 2, 2)\n",
    "sns.scatterplot(x='Actual', y='Predicted', data=pred_df)\n",
    "plt.plot([pred_df['Actual'].min(), pred_df['Actual'].max()],\n",
    "         [pred_df['Actual'].min(), pred_df['Actual'].max()],\n",
    "         'r--')\n",
    "plt.title('Prediction Accuracy')\n",
    "plt.xlabel('Actual Production')\n",
    "plt.ylabel('Predicted Production')\n",
    "\n",
    "plt.tight_layout()\n",
    "plt.show()\n",
    "\n",
    "print(f\"Best Model: {best_model_name}\")\n",
    "print(f\"RMSE: {comparison_df.loc[best_model_name, 'RMSE']:.2f}\")\n",
    "print(f\"R2 Score: {comparison_df.loc[best_model_name, 'R2']:.2f}\")"
   ]
  },
  {
   "cell_type": "code",
   "execution_count": null,
   "metadata": {
    "colab": {
     "base_uri": "https://localhost:8080/",
     "height": 671
    },
    "id": "E7B-CjfcbjYE",
    "outputId": "2fb94ee9-987a-4e0c-fa4d-30ef2068a7ea"
   },
   "outputs": [],
   "source": [
    "if hasattr(best_model, 'feature_importances_'):\n",
    "    plt.figure(figsize=(10, 6))\n",
    "    importances = best_model.feature_importances_\n",
    "    features = X.columns\n",
    "    importance_df = pd.DataFrame({'Feature': features, 'Importance': importances})\n",
    "    importance_df = importance_df.sort_values('Importance', ascending=False)\n",
    "\n",
    "    sns.barplot(x='Importance', y='Feature', data=importance_df, palette='viridis')\n",
    "    plt.title(f'Feature Importance - {best_model_name}')\n",
    "    plt.xlabel('Importance Score')\n",
    "    plt.ylabel('')\n",
    "    plt.show()\n",
    "elif hasattr(best_model, 'coef_'):\n",
    "    plt.figure(figsize=(10, 6))\n",
    "    coefs = best_model.coef_\n",
    "    features = X.columns\n",
    "    coef_df = pd.DataFrame({'Feature': features, 'Coefficient': coefs})\n",
    "    coef_df = coef_df.sort_values('Coefficient', ascending=False)\n",
    "\n",
    "    sns.barplot(x='Coefficient', y='Feature', data=coef_df, palette='viridis')\n",
    "    plt.title(f'Feature Coefficients - {best_model_name}')\n",
    "    plt.xlabel('Coefficient Value')\n",
    "    plt.ylabel('')\n",
    "    plt.show()"
   ]
  },
  {
   "cell_type": "code",
   "execution_count": null,
   "metadata": {
    "colab": {
     "base_uri": "https://localhost:8080/",
     "height": 490
    },
    "id": "GTNiKmCeboqn",
    "outputId": "00ce0385-ebc3-4275-d322-19f44ad3ba14"
   },
   "outputs": [],
   "source": [
    "plt.figure(figsize=(12, 5))\n",
    "\n",
    "# Residual plot\n",
    "residuals = y_test - y_pred\n",
    "plt.subplot(1, 2, 1)\n",
    "sns.scatterplot(x=y_pred, y=residuals)\n",
    "plt.axhline(y=0, color='r', linestyle='--')\n",
    "plt.title('Residual Plot')\n",
    "plt.xlabel('Predicted Values')\n",
    "plt.ylabel('Residuals')\n",
    "\n",
    "# Distribution of residuals\n",
    "plt.subplot(1, 2, 2)\n",
    "sns.histplot(residuals, kde=True)\n",
    "plt.title('Distribution of Residuals')\n",
    "plt.xlabel('Residuals')\n",
    "\n",
    "plt.tight_layout()\n",
    "plt.show()"
   ]
  },
  {
   "cell_type": "markdown",
   "metadata": {
    "id": "xaT8L7RuchL8"
   },
   "source": [
    "# **Linair** Regression from scartch\n"
   ]
  },
  {
   "cell_type": "code",
   "execution_count": null,
   "metadata": {
    "id": "rJw73A2Fcgx0"
   },
   "outputs": [],
   "source": [
    "import numpy as np\n",
    "\n",
    "class ScratchLinearRegression:\n",
    "    def __init__(self):\n",
    "        self.coefficients = None\n",
    "        self.intercept = None\n",
    "\n",
    "    def fit(self, X, y):\n",
    "        # Add intercept term (column of 1s)\n",
    "        X = np.column_stack((np.ones(X.shape[0]), X))\n",
    "\n",
    "        # Calculate coefficients using OLS\n",
    "        XTX = np.dot(X.T, X)\n",
    "        XTX_inv = np.linalg.inv(XTX)\n",
    "        XTy = np.dot(X.T, y)\n",
    "        beta = np.dot(XTX_inv, XTy)\n",
    "\n",
    "        self.intercept = beta[0]\n",
    "        self.coefficients = beta[1:]\n",
    "\n",
    "    def predict(self, X):\n",
    "        if self.coefficients is None:\n",
    "            raise Exception(\"Model not fitted yet!\")\n",
    "        return self.intercept + np.dot(X, self.coefficients)\n",
    "\n",
    "    def get_params(self):\n",
    "        return {\n",
    "            'intercept': self.intercept,\n",
    "            'coefficients': self.coefficients.tolist()\n",
    "        }"
   ]
  },
  {
   "cell_type": "code",
   "execution_count": null,
   "metadata": {
    "id": "q7SrqgXmcyLM"
   },
   "outputs": [],
   "source": [
    "\n",
    "X = merged_df[[\n",
    "    'Total_Dieri_Area', 'Total_BasFonds_Area', 'Total_Walo_Area',\n",
    "    'Total_Decrue_Area', 'Total_Hivernage_Area'\n",
    "]].values\n",
    "\n",
    "\n",
    "y = merged_df['Total_General_Production'].values\n",
    "\n",
    "\n",
    "def train_test_split(X, y, test_size=0.2, random_state=None):\n",
    "    if random_state:\n",
    "        np.random.seed(random_state)\n",
    "    indices = np.arange(X.shape[0])\n",
    "    np.random.shuffle(indices)\n",
    "    split_idx = int(X.shape[0] * (1 - test_size))\n",
    "    X_train, X_test = X[indices[:split_idx]], X[indices[split_idx:]]\n",
    "    y_train, y_test = y[indices[:split_idx]], y[indices[split_idx:]]\n",
    "    return X_train, X_test, y_train, y_test\n",
    "\n",
    "X_train, X_test, y_train, y_test = train_test_split(X, y, test_size=0.2, random_state=42)\n",
    "\n",
    "\n",
    "def standard_scaler(X_train, X_test):\n",
    "    mean = np.mean(X_train, axis=0)\n",
    "    std = np.std(X_train, axis=0)\n",
    "    X_train_scaled = (X_train - mean) / std\n",
    "    X_test_scaled = (X_test - mean) / std\n",
    "    return X_train_scaled, X_test_scaled, mean, std\n",
    "\n",
    "X_train_scaled, X_test_scaled, X_mean, X_std = standard_scaler(X_train, X_test)"
   ]
  },
  {
   "cell_type": "code",
   "execution_count": null,
   "metadata": {
    "colab": {
     "base_uri": "https://localhost:8080/"
    },
    "id": "e7o3JNymc5iH",
    "outputId": "d19a2118-1648-4198-8e37-1bafcce389e8"
   },
   "outputs": [],
   "source": [
    "\n",
    "scratch_model = ScratchLinearRegression()\n",
    "scratch_model.fit(X_train_scaled, y_train)\n",
    "\n",
    "# Make predictions\n",
    "y_pred_scratch = scratch_model.predict(X_test_scaled)\n",
    "\n",
    "# Evaluation metrics\n",
    "def mean_squared_error(y_true, y_pred):\n",
    "    return np.mean((y_true - y_pred) ** 2)\n",
    "\n",
    "def r2_score(y_true, y_pred):\n",
    "    ss_res = np.sum((y_true - y_pred) ** 2)\n",
    "    ss_tot = np.sum((y_true - np.mean(y_true)) ** 2)\n",
    "    return 1 - (ss_res / ss_tot)\n",
    "\n",
    "scratch_rmse = np.sqrt(mean_squared_error(y_test, y_pred_scratch))\n",
    "scratch_r2 = r2_score(y_test, y_pred_scratch)\n",
    "\n",
    "print(\"Scratch Linear Regression Results:\")\n",
    "print(f\"RMSE: {scratch_rmse:.2f}\")\n",
    "print(f\"R2 Score: {scratch_r2:.2f}\")\n",
    "print(\"\\nModel Parameters:\")\n",
    "print(scratch_model.get_params())"
   ]
  },
  {
   "cell_type": "code",
   "execution_count": null,
   "metadata": {
    "colab": {
     "base_uri": "https://localhost:8080/"
    },
    "id": "jNvamN7dc-Oi",
    "outputId": "fef8617f-4831-4afe-b7e8-4efa1bc1e118"
   },
   "outputs": [],
   "source": [
    "from sklearn.linear_model import LinearRegression\n",
    "\n",
    "\n",
    "sklearn_model = LinearRegression()\n",
    "sklearn_model.fit(X_train_scaled, y_train)\n",
    "\n",
    "\n",
    "y_pred_sklearn = sklearn_model.predict(X_test_scaled)\n",
    "\n",
    "\n",
    "sklearn_rmse = np.sqrt(mean_squared_error(y_test, y_pred_sklearn))\n",
    "sklearn_r2 = r2_score(y_test, y_pred_sklearn)\n",
    "\n",
    "print(\"\\nscikit-learn Linear Regression Results:\")\n",
    "print(f\"RMSE: {sklearn_rmse:.2f}\")\n",
    "print(f\"R2 Score: {sklearn_r2:.2f}\")\n",
    "print(\"\\nModel Parameters:\")\n",
    "print(f\"Intercept: {sklearn_model.intercept_}\")\n",
    "print(f\"Coefficients: {sklearn_model.coef_}\")"
   ]
  },
  {
   "cell_type": "code",
   "execution_count": null,
   "metadata": {
    "colab": {
     "base_uri": "https://localhost:8080/",
     "height": 592
    },
    "id": "F5_BvKrpdEvD",
    "outputId": "7648ec03-a3ca-42d2-a8dd-dd450e2cdd48"
   },
   "outputs": [],
   "source": [
    "plt.figure(figsize=(14, 6))\n",
    "\n",
    "# Predictions comparison\n",
    "plt.subplot(1, 2, 1)\n",
    "plt.scatter(y_test, y_pred_scratch, alpha=0.7, label='Scratch Model')\n",
    "plt.scatter(y_test, y_pred_sklearn, alpha=0.7, label='scikit-learn')\n",
    "plt.plot([y_test.min(), y_test.max()], [y_test.min(), y_test.max()], 'r--')\n",
    "plt.title('Prediction Comparison')\n",
    "plt.xlabel('Actual Production')\n",
    "plt.ylabel('Predicted Production')\n",
    "plt.legend()\n",
    "\n",
    "# Residuals comparison\n",
    "plt.subplot(1, 2, 2)\n",
    "residuals_scratch = y_test - y_pred_scratch\n",
    "residuals_sklearn = y_test - y_pred_sklearn\n",
    "plt.scatter(y_pred_scratch, residuals_scratch, alpha=0.7, label='Scratch Model')\n",
    "plt.scatter(y_pred_sklearn, residuals_sklearn, alpha=0.7, label='scikit-learn')\n",
    "plt.axhline(y=0, color='r', linestyle='--')\n",
    "plt.title('Residuals Comparison')\n",
    "plt.xlabel('Predicted Values')\n",
    "plt.ylabel('Residuals')\n",
    "plt.legend()\n",
    "\n",
    "plt.tight_layout()\n",
    "plt.show()\n",
    "\n",
    "# Print difference in parameters\n",
    "print(\"\\nParameter Differences:\")\n",
    "print(f\"Intercept difference: {abs(scratch_model.intercept - sklearn_model.intercept_):.6f}\")\n",
    "coeff_diff = np.abs(scratch_model.coefficients - sklearn_model.coef_)\n",
    "print(f\"Average coefficient difference: {np.mean(coeff_diff):.6f}\")\n",
    "print(f\"Max coefficient difference: {np.max(coeff_diff):.6f}\")"
   ]
  },
  {
   "cell_type": "code",
   "execution_count": null,
   "metadata": {
    "colab": {
     "base_uri": "https://localhost:8080/",
     "height": 831
    },
    "id": "5rrPvRl_dSXh",
    "outputId": "8624a732-2c4b-45ad-a623-2fb1c6ca3c6b"
   },
   "outputs": [],
   "source": [
    "\n",
    "feature_names = [\n",
    "    'Total_Dieri_Area',\n",
    "    'Total_BasFonds_Area',\n",
    "    'Total_Walo_Area',\n",
    "    'Total_Decrue_Area',\n",
    "    'Total_Hivernage_Area'\n",
    "]\n",
    "\n",
    "coeff_df = pd.DataFrame({\n",
    "    'Feature': feature_names,\n",
    "    'Scratch_Coefficient': scratch_model.coefficients,\n",
    "    'Sklearn_Coefficient': sklearn_model.coef_,\n",
    "    'Difference': coeff_diff\n",
    "})\n",
    "\n",
    "print(\"\\nFeature Coefficients Comparison:\")\n",
    "display(coeff_df)\n",
    "\n",
    "# Plot feature importance\n",
    "plt.figure(figsize=(10, 6))\n",
    "x = np.arange(len(feature_names))\n",
    "width = 0.35\n",
    "\n",
    "plt.bar(x - width/2, scratch_model.coefficients, width, label='Scratch Model')\n",
    "plt.bar(x + width/2, sklearn_model.coef_, width, label='scikit-learn')\n",
    "plt.xticks(x, feature_names, rotation=45)\n",
    "plt.ylabel('Coefficient Value')\n",
    "plt.title('Feature Coefficients Comparison')\n",
    "plt.legend()\n",
    "plt.tight_layout()\n",
    "plt.show()"
   ]
  },
  {
   "cell_type": "code",
   "execution_count": null,
   "metadata": {
    "colab": {
     "base_uri": "https://localhost:8080/"
    },
    "id": "5HDnjr31dY8g",
    "outputId": "1c1b24dc-4afd-4ab3-8164-1cd7609daffe"
   },
   "outputs": [],
   "source": [
    "\n",
    "new_data = np.array([[\n",
    "    120000,\n",
    "    40000,\n",
    "    25000,\n",
    "    8000,\n",
    "    15000\n",
    "]])\n",
    "\n",
    "\n",
    "new_data_scaled = (new_data - X_mean) / X_std\n",
    "\n",
    "# Make prediction\n",
    "prediction = scratch_model.predict(new_data_scaled)\n",
    "print(f\"\\nPredicted Total Production: {prediction[0]:.2f} tons\")\n",
    "\n",
    "# Compare with scikit-learn\n",
    "sklearn_pred = sklearn_model.predict(new_data_scaled)\n",
    "print(f\"scikit-learn Prediction: {sklearn_pred[0]:.2f} tons\")\n",
    "print(f\"Difference: {abs(prediction[0] - sklearn_pred[0]):.2f} tons\")"
   ]
  }
 ],
 "metadata": {
  "colab": {
   "provenance": []
  },
  "kernelspec": {
   "display_name": "Python [conda env:base] *",
   "language": "python",
   "name": "conda-base-py"
  },
  "language_info": {
   "codemirror_mode": {
    "name": "ipython",
    "version": 3
   },
   "file_extension": ".py",
   "mimetype": "text/x-python",
   "name": "python",
   "nbconvert_exporter": "python",
   "pygments_lexer": "ipython3",
   "version": "3.12.7"
  }
 },
 "nbformat": 4,
 "nbformat_minor": 4
}
